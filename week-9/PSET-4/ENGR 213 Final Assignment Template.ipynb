{
 "cells": [
  {
   "cell_type": "code",
   "execution_count": 1,
   "id": "a2644edd",
   "metadata": {},
   "outputs": [],
   "source": [
    "# ENGR 213 Final Assignment Fall 2022\n",
    "\n",
    "import pandas as pd\n",
    "\n",
    "# need for regression analysis\n",
    "from statsmodels.formula.api import ols\n",
    "\n",
    "# NLP Sentiment Score\n",
    "from nltk.sentiment.vader import SentimentIntensityAnalyzer as stm"
   ]
  },
  {
   "cell_type": "code",
   "execution_count": 2,
   "id": "925f3de2",
   "metadata": {},
   "outputs": [],
   "source": [
    "# 1) a. Load the data from the csv file into a Python Pandas data frame named df\n",
    "# Initially, df should have 1989 rows and 4 columns\n",
    "\n",
    "df = pd.read_csv('stockdailyhlnews.csv')"
   ]
  },
  {
   "cell_type": "code",
   "execution_count": 4,
   "id": "b9a5abbd",
   "metadata": {},
   "outputs": [],
   "source": [
    "# 1) b. Add a column called sscore to df \n",
    "# i. Fill the sscore column with the ‘compound’ sentiment analysis score based on the daily headline news for each day. \n",
    "\n",
    "my_list = []\n",
    "for ind in df.index:\n",
    "    stmScore = stm().polarity_scores(df['news'][ind])\n",
    "    new_column = stmScore['compound']\n",
    "    mylist = my_list.append(new_column)\n",
    "\n",
    "# add a column sscore to store the daily sscores\n",
    "df['sscore'] = my_list"
   ]
  },
  {
   "cell_type": "code",
   "execution_count": 9,
   "id": "5c633af8",
   "metadata": {},
   "outputs": [],
   "source": [
    "# 1) b. \n",
    "# ii. Calculate the average (mean) ‘compound’ score for the column sscore and \n",
    "# store this average number in a variable named avgsscore\n",
    "avgsscore = df['sscore'].mean()"
   ]
  },
  {
   "cell_type": "code",
   "execution_count": 38,
   "id": "7f8c0363",
   "metadata": {},
   "outputs": [],
   "source": [
    "#df"
   ]
  },
  {
   "cell_type": "code",
   "execution_count": 14,
   "id": "8ddb61ce",
   "metadata": {},
   "outputs": [],
   "source": [
    "# 2) Is the IBM stock price influenced by the sentiment compound score and/or s&p 500 index?   \n",
    "# a. Use from statsmodels.formula.api import ols for this linear regression task\n",
    "\n",
    "Result = ols(\"ibm ~ sscore + sp500\", data=df).fit()\n",
    "#Result2 = ols(\"ibm ~ sp500\", data=df).fit()"
   ]
  },
  {
   "cell_type": "code",
   "execution_count": 39,
   "id": "008b2422",
   "metadata": {},
   "outputs": [],
   "source": [
    "#print(Result.summary())"
   ]
  },
  {
   "cell_type": "code",
   "execution_count": 17,
   "id": "d8a58919",
   "metadata": {},
   "outputs": [
    {
     "data": {
      "text/plain": [
       "0.36789263705860664"
      ]
     },
     "execution_count": 17,
     "metadata": {},
     "output_type": "execute_result"
    }
   ],
   "source": [
    "# 2) b. Store adjusted rsquaures in a variable named adj_rsquared\n",
    "adj_rsquared = Result.rsquared_adj\n",
    "#adj_rsquared"
   ]
  },
  {
   "cell_type": "code",
   "execution_count": null,
   "id": "19747aed",
   "metadata": {},
   "outputs": [],
   "source": []
  },
  {
   "cell_type": "code",
   "execution_count": 18,
   "id": "4ae0f809",
   "metadata": {},
   "outputs": [
    {
     "data": {
      "text/plain": [
       "5.639456242346845e-199"
      ]
     },
     "execution_count": 18,
     "metadata": {},
     "output_type": "execute_result"
    }
   ],
   "source": [
    "# 2) c. Store pvalue of f-statistics in a variable named f_pvalue\n",
    "f_pvalue = Result.f_pvalue \n",
    "#f_pvalue"
   ]
  },
  {
   "cell_type": "code",
   "execution_count": null,
   "id": "a0c78ba5",
   "metadata": {},
   "outputs": [],
   "source": []
  },
  {
   "cell_type": "code",
   "execution_count": 33,
   "id": "42e504c7",
   "metadata": {},
   "outputs": [
    {
     "data": {
      "text/plain": [
       "0.25342307758175986"
      ]
     },
     "execution_count": 33,
     "metadata": {},
     "output_type": "execute_result"
    }
   ],
   "source": [
    "# 2) d. Store pvalue of sscore in a variable named sscore_pvalue\n",
    "sscore_pvalue = Result.pvalues.sscore\n",
    "#sscore_pvalue"
   ]
  },
  {
   "cell_type": "code",
   "execution_count": 32,
   "id": "c49bdc02",
   "metadata": {},
   "outputs": [
    {
     "data": {
      "text/plain": [
       "1.7300934080621348e-200"
      ]
     },
     "execution_count": 32,
     "metadata": {},
     "output_type": "execute_result"
    }
   ],
   "source": [
    "# 2) e. Store pvalue of sp500 in a variable named sp500_pvalue\n",
    "sp500_pvalue = Result.pvalues.sp500\n",
    "#sp500_pvalue"
   ]
  },
  {
   "cell_type": "code",
   "execution_count": 36,
   "id": "b688b1cd",
   "metadata": {},
   "outputs": [
    {
     "name": "stdout",
     "output_type": "stream",
     "text": [
      "False\n"
     ]
    }
   ],
   "source": [
    "# 2) f. If a relationship exists between sscore and ibm stock price, \n",
    "# then store a boolean value of True in a variable named sscore_rel; \n",
    "# otherwise, sscore_rel should be set to False\n",
    "sscore_rel = False\n",
    "if (f_pvalue < 0.05) and (sscore_pvalue < 0.05):\n",
    "    sscore_rel = True\n",
    "\n",
    "#print(sscore_rel)\n",
    "    "
   ]
  },
  {
   "cell_type": "code",
   "execution_count": 37,
   "id": "2b26d9bc",
   "metadata": {},
   "outputs": [
    {
     "name": "stdout",
     "output_type": "stream",
     "text": [
      "True\n"
     ]
    }
   ],
   "source": [
    "# 2) g. If a relationship exists between s&p 500 index and ibm stock price, \n",
    "# then store a boolean value of True in a variable named sp500_rel;\n",
    "# otherwise, sp500_rel should be set to False  \n",
    "sp500_rel = False\n",
    "if (f_pvalue < 0.05) and (sp500_pvalue < 0.05):\n",
    "    sscore_rel = True\n",
    "\n",
    "#print(sscore_rel)"
   ]
  },
  {
   "cell_type": "code",
   "execution_count": null,
   "id": "4bff3cee",
   "metadata": {},
   "outputs": [],
   "source": []
  },
  {
   "cell_type": "code",
   "execution_count": null,
   "id": "0efed2ca",
   "metadata": {},
   "outputs": [],
   "source": []
  },
  {
   "cell_type": "code",
   "execution_count": null,
   "id": "509978cf",
   "metadata": {},
   "outputs": [],
   "source": []
  },
  {
   "cell_type": "code",
   "execution_count": null,
   "id": "e5e66257",
   "metadata": {},
   "outputs": [],
   "source": []
  },
  {
   "cell_type": "code",
   "execution_count": null,
   "id": "6b92e5d8",
   "metadata": {},
   "outputs": [],
   "source": []
  },
  {
   "cell_type": "code",
   "execution_count": null,
   "id": "b9d7b97f",
   "metadata": {},
   "outputs": [],
   "source": []
  },
  {
   "cell_type": "code",
   "execution_count": null,
   "id": "c5955aea",
   "metadata": {},
   "outputs": [],
   "source": []
  },
  {
   "cell_type": "code",
   "execution_count": null,
   "id": "599113a8",
   "metadata": {},
   "outputs": [],
   "source": []
  },
  {
   "cell_type": "code",
   "execution_count": null,
   "id": "83a1d5db",
   "metadata": {},
   "outputs": [],
   "source": []
  },
  {
   "cell_type": "code",
   "execution_count": null,
   "id": "04a87676",
   "metadata": {},
   "outputs": [],
   "source": []
  },
  {
   "cell_type": "code",
   "execution_count": null,
   "id": "4c9ca0d5",
   "metadata": {},
   "outputs": [],
   "source": []
  },
  {
   "cell_type": "code",
   "execution_count": null,
   "id": "39331969",
   "metadata": {},
   "outputs": [],
   "source": []
  },
  {
   "cell_type": "code",
   "execution_count": null,
   "id": "c4603294",
   "metadata": {},
   "outputs": [],
   "source": []
  },
  {
   "cell_type": "code",
   "execution_count": null,
   "id": "07cbf5e7",
   "metadata": {},
   "outputs": [],
   "source": []
  },
  {
   "cell_type": "code",
   "execution_count": null,
   "id": "023d271f",
   "metadata": {},
   "outputs": [],
   "source": [
    "'''df['news'][0]\n",
    "stmScore = stm().polarity_scores(df['news'][0])\n",
    "stmScore\n",
    "compounde = stmScore['compound']\n",
    "print(compounde)\n",
    "print([compounde])\n",
    "'''"
   ]
  }
 ],
 "metadata": {
  "kernelspec": {
   "display_name": "Python 3 (ipykernel)",
   "language": "python",
   "name": "python3"
  },
  "language_info": {
   "codemirror_mode": {
    "name": "ipython",
    "version": 3
   },
   "file_extension": ".py",
   "mimetype": "text/x-python",
   "name": "python",
   "nbconvert_exporter": "python",
   "pygments_lexer": "ipython3",
   "version": "3.9.12"
  }
 },
 "nbformat": 4,
 "nbformat_minor": 5
}
