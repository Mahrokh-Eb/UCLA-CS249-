{
 "cells": [
  {
   "cell_type": "markdown",
   "id": "5e4a178a",
   "metadata": {},
   "source": [
    "# compund - sentiment "
   ]
  },
  {
   "cell_type": "code",
   "execution_count": 27,
   "id": "a2644edd",
   "metadata": {},
   "outputs": [],
   "source": [
    "# ENGR 213 Final Assignment Fall 2022\n",
    "\n",
    "import pandas as pd\n",
    "\n",
    "# need for regression analysis\n",
    "from statsmodels.formula.api import ols\n",
    "\n",
    "# NLP Sentiment Score\n",
    "from nltk.sentiment.vader import SentimentIntensityAnalyzer as stm"
   ]
  },
  {
   "cell_type": "code",
   "execution_count": 28,
   "id": "925f3de2",
   "metadata": {},
   "outputs": [],
   "source": [
    "# 1) a. Load the data from the csv file into a Python Pandas data frame named df\n",
    "# Initially, df should have 1989 rows and 4 columns\n",
    "\n",
    "df = pd.read_csv('stockdailyhlnews.csv')"
   ]
  },
  {
   "cell_type": "code",
   "execution_count": 29,
   "id": "929ebc04",
   "metadata": {},
   "outputs": [],
   "source": [
    "#df"
   ]
  },
  {
   "cell_type": "code",
   "execution_count": 30,
   "id": "b9a5abbd",
   "metadata": {},
   "outputs": [],
   "source": [
    "# 1) b. Add a column called sscore to df \n",
    "# i. Fill the sscore column with the ‘compound’ sentiment analysis score based on the daily headline news for each day. \n",
    "\n",
    "my_list = []\n",
    "for ind in df.index:\n",
    "    stmScore = stm().polarity_scores(df['news'][ind])\n",
    "    new_column = stmScore['compound']\n",
    "    mylist = my_list.append(new_column)\n",
    "\n",
    "# add a column sscore to store the daily sscores\n",
    "df['sscore'] = my_list"
   ]
  },
  {
   "cell_type": "code",
   "execution_count": 31,
   "id": "5c633af8",
   "metadata": {},
   "outputs": [],
   "source": [
    "# 1) b. \n",
    "# ii. Calculate the average (mean) ‘compound’ score for the column sscore and \n",
    "# store this average number in a variable named avgsscore\n",
    "avgsscore = df['sscore'].mean()\n",
    "#avgsscore"
   ]
  },
  {
   "cell_type": "code",
   "execution_count": 38,
   "id": "8ddb61ce",
   "metadata": {},
   "outputs": [],
   "source": [
    "# 2) Is the IBM stock price influenced by the sentiment compound score and/or s&p 500 index?   \n",
    "# a. Use from statsmodels.formula.api import ols for this linear regression task\n",
    "\n",
    "Result = ols(\"ibm ~ sscore + sp500\", data=df).fit()\n",
    "#Result2 = ols(\"ibm ~ sp500\", data=df).fit()"
   ]
  },
  {
   "cell_type": "code",
   "execution_count": 40,
   "id": "008b2422",
   "metadata": {},
   "outputs": [
    {
     "name": "stdout",
     "output_type": "stream",
     "text": [
      "                            OLS Regression Results                            \n",
      "==============================================================================\n",
      "Dep. Variable:                    ibm   R-squared:                       0.369\n",
      "Model:                            OLS   Adj. R-squared:                  0.368\n",
      "Method:                 Least Squares   F-statistic:                     579.5\n",
      "Date:                Thu, 01 Dec 2022   Prob (F-statistic):          5.64e-199\n",
      "Time:                        16:41:28   Log-Likelihood:                -8759.7\n",
      "No. Observations:                1989   AIC:                         1.753e+04\n",
      "Df Residuals:                    1986   BIC:                         1.754e+04\n",
      "Df Model:                           2                                         \n",
      "Covariance Type:            nonrobust                                         \n",
      "==============================================================================\n",
      "                 coef    std err          t      P>|t|      [0.025      0.975]\n",
      "------------------------------------------------------------------------------\n",
      "Intercept     55.9497      1.733     32.289      0.000      52.551      59.348\n",
      "sscore        -0.9153      0.801     -1.142      0.253      -2.487       0.656\n",
      "sp500          0.0373      0.001     34.043      0.000       0.035       0.039\n",
      "==============================================================================\n",
      "Omnibus:                     1303.547   Durbin-Watson:                   0.005\n",
      "Prob(Omnibus):                  0.000   Jarque-Bera (JB):              128.395\n",
      "Skew:                           0.207   Prob(JB):                     1.32e-28\n",
      "Kurtosis:                       1.826   Cond. No.                     6.07e+03\n",
      "==============================================================================\n",
      "\n",
      "Notes:\n",
      "[1] Standard Errors assume that the covariance matrix of the errors is correctly specified.\n",
      "[2] The condition number is large, 6.07e+03. This might indicate that there are\n",
      "strong multicollinearity or other numerical problems.\n"
     ]
    }
   ],
   "source": [
    "print(Result.summary())"
   ]
  },
  {
   "cell_type": "code",
   "execution_count": 41,
   "id": "d8a58919",
   "metadata": {},
   "outputs": [
    {
     "data": {
      "text/plain": [
       "0.36789263705860664"
      ]
     },
     "execution_count": 41,
     "metadata": {},
     "output_type": "execute_result"
    }
   ],
   "source": [
    "# 2) b. Store adjusted rsquaures in a variable named adj_rsquared\n",
    "adj_rsquared = Result.rsquared_adj\n",
    "adj_rsquared"
   ]
  },
  {
   "cell_type": "code",
   "execution_count": null,
   "id": "19747aed",
   "metadata": {},
   "outputs": [],
   "source": []
  },
  {
   "cell_type": "code",
   "execution_count": 22,
   "id": "4ae0f809",
   "metadata": {},
   "outputs": [],
   "source": [
    "# 2) c. Store pvalue of f-statistics in a variable named f_pvalue\n",
    "f_pvalue = Result.f_pvalue \n",
    "#f_pvalue"
   ]
  },
  {
   "cell_type": "code",
   "execution_count": null,
   "id": "a0c78ba5",
   "metadata": {},
   "outputs": [],
   "source": []
  },
  {
   "cell_type": "code",
   "execution_count": 23,
   "id": "42e504c7",
   "metadata": {},
   "outputs": [],
   "source": [
    "# 2) d. Store pvalue of sscore in a variable named sscore_pvalue\n",
    "sscore_pvalue = Result.pvalues.sscore\n",
    "#sscore_pvalue"
   ]
  },
  {
   "cell_type": "code",
   "execution_count": 24,
   "id": "c49bdc02",
   "metadata": {},
   "outputs": [],
   "source": [
    "# 2) e. Store pvalue of sp500 in a variable named sp500_pvalue\n",
    "sp500_pvalue = Result.pvalues.sp500\n",
    "#sp500_pvalue"
   ]
  },
  {
   "cell_type": "code",
   "execution_count": 25,
   "id": "b688b1cd",
   "metadata": {},
   "outputs": [],
   "source": [
    "# 2) f. If a relationship exists between sscore and ibm stock price, \n",
    "# then store a boolean value of True in a variable named sscore_rel; \n",
    "# otherwise, sscore_rel should be set to False\n",
    "sscore_rel = False\n",
    "if (f_pvalue < 0.05) and (sscore_pvalue < 0.05):\n",
    "    sscore_rel = True\n",
    "\n",
    "#print(sscore_rel)\n",
    "    "
   ]
  },
  {
   "cell_type": "code",
   "execution_count": 26,
   "id": "2b26d9bc",
   "metadata": {},
   "outputs": [],
   "source": [
    "# 2) g. If a relationship exists between s&p 500 index and ibm stock price, \n",
    "# then store a boolean value of True in a variable named sp500_rel;\n",
    "# otherwise, sp500_rel should be set to False  \n",
    "sp500_rel = False\n",
    "if (f_pvalue < 0.05) and (sp500_pvalue < 0.05):\n",
    "    sp500_rel = True\n",
    "\n",
    "#print(sp500_rel)"
   ]
  },
  {
   "cell_type": "code",
   "execution_count": null,
   "id": "4bff3cee",
   "metadata": {},
   "outputs": [],
   "source": []
  }
 ],
 "metadata": {
  "kernelspec": {
   "display_name": "Python 3 (ipykernel)",
   "language": "python",
   "name": "python3"
  },
  "language_info": {
   "codemirror_mode": {
    "name": "ipython",
    "version": 3
   },
   "file_extension": ".py",
   "mimetype": "text/x-python",
   "name": "python",
   "nbconvert_exporter": "python",
   "pygments_lexer": "ipython3",
   "version": "3.9.12"
  }
 },
 "nbformat": 4,
 "nbformat_minor": 5
}
