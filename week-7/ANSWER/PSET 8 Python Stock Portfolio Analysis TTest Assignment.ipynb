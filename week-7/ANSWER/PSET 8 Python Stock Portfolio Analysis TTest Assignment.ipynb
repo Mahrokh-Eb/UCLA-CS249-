{
 "cells": [
  {
   "cell_type": "code",
   "execution_count": 1,
   "id": "b639f9ea",
   "metadata": {},
   "outputs": [],
   "source": [
    "# import libraries \n",
    "import pandas as pd \n",
    "import numpy as np\n",
    "# Perform Independent-Samples T-Test \n",
    "from scipy.stats import ttest_ind\n",
    "# Perform Paired-Samples T-Test \n",
    "from scipy.stats import ttest_rel"
   ]
  },
  {
   "cell_type": "code",
   "execution_count": 2,
   "id": "4bce1b06",
   "metadata": {},
   "outputs": [],
   "source": [
    "# read csv file into data frame\n",
    "df = pd.read_csv(\"all_stocks.csv\")"
   ]
  },
  {
   "cell_type": "code",
   "execution_count": 3,
   "id": "650cc8ac",
   "metadata": {},
   "outputs": [],
   "source": [
    "# convert Date string to datetime object\n",
    "df['Date'] = pd.to_datetime(df['Date'], format = '%m/%d/%Y')"
   ]
  },
  {
   "cell_type": "code",
   "execution_count": 4,
   "id": "9508de03",
   "metadata": {},
   "outputs": [],
   "source": [
    "# sort df by Date\n",
    "df.sort_values(by='Date', inplace = True)"
   ]
  },
  {
   "cell_type": "code",
   "execution_count": 5,
   "id": "8e524628",
   "metadata": {},
   "outputs": [],
   "source": [
    "# reset index after sorting the df\n",
    "df.reset_index(drop=True, inplace = True)"
   ]
  },
  {
   "cell_type": "code",
   "execution_count": 6,
   "id": "f05a46e6",
   "metadata": {},
   "outputs": [],
   "source": [
    "# add ibm_return, wmt_return, msft_return, and amzn_return columns\n",
    "df[\"ibm_return\"] = (df[\"ibm\"] / df[\"ibm\"].shift(1)) - 1\n",
    "df[\"wmt_return\"] = (df[\"wmt\"] / df[\"wmt\"].shift(1)) - 1\n",
    "df[\"msft_return\"] = (df[\"msft\"] / df[\"msft\"].shift(1)) - 1\n",
    "df[\"amzn_return\"] = (df[\"amzn\"] / df[\"amzn\"].shift(1)) - 1"
   ]
  },
  {
   "cell_type": "code",
   "execution_count": 7,
   "id": "7fd05e97",
   "metadata": {},
   "outputs": [
    {
     "name": "stderr",
     "output_type": "stream",
     "text": [
      "/var/folders/ws/gjryppzd6b13gr32gmby7d300000gn/T/ipykernel_32258/265692824.py:2: SettingWithCopyWarning: \n",
      "A value is trying to be set on a copy of a slice from a DataFrame\n",
      "\n",
      "See the caveats in the documentation: https://pandas.pydata.org/pandas-docs/stable/user_guide/indexing.html#returning-a-view-versus-a-copy\n",
      "  df[\"ibm_return\"][0] = 0\n",
      "/var/folders/ws/gjryppzd6b13gr32gmby7d300000gn/T/ipykernel_32258/265692824.py:3: SettingWithCopyWarning: \n",
      "A value is trying to be set on a copy of a slice from a DataFrame\n",
      "\n",
      "See the caveats in the documentation: https://pandas.pydata.org/pandas-docs/stable/user_guide/indexing.html#returning-a-view-versus-a-copy\n",
      "  df[\"wmt_return\"][0] = 0\n",
      "/var/folders/ws/gjryppzd6b13gr32gmby7d300000gn/T/ipykernel_32258/265692824.py:4: SettingWithCopyWarning: \n",
      "A value is trying to be set on a copy of a slice from a DataFrame\n",
      "\n",
      "See the caveats in the documentation: https://pandas.pydata.org/pandas-docs/stable/user_guide/indexing.html#returning-a-view-versus-a-copy\n",
      "  df[\"msft_return\"][0] = 0\n",
      "/var/folders/ws/gjryppzd6b13gr32gmby7d300000gn/T/ipykernel_32258/265692824.py:5: SettingWithCopyWarning: \n",
      "A value is trying to be set on a copy of a slice from a DataFrame\n",
      "\n",
      "See the caveats in the documentation: https://pandas.pydata.org/pandas-docs/stable/user_guide/indexing.html#returning-a-view-versus-a-copy\n",
      "  df[\"amzn_return\"][0] = 0\n"
     ]
    }
   ],
   "source": [
    "# replace the first entry of ibm, wmt, msft, and amzn returns to 0\n",
    "df[\"ibm_return\"][0] = 0\n",
    "df[\"wmt_return\"][0] = 0\n",
    "df[\"msft_return\"][0] = 0\n",
    "df[\"amzn_return\"][0] = 0"
   ]
  },
  {
   "cell_type": "code",
   "execution_count": 8,
   "id": "b7bcb458",
   "metadata": {},
   "outputs": [],
   "source": [
    "\n",
    "# create 2-dimension Numpy arrays to store the two portfolios (ibm & wmt, msft & amzn)\n",
    "portfolio1 = np.array([df[\"ibm_return\"], df[\"wmt_return\"]]) \n",
    "portfolio2 = np.array([df[\"msft_return\"], df[\"amzn_return\"]])"
   ]
  },
  {
   "cell_type": "code",
   "execution_count": 9,
   "id": "2e07d301",
   "metadata": {},
   "outputs": [],
   "source": [
    "# 1)Are there any differences in the rate of return of IBM (ibm) vs. Walmart (wmt)\n",
    "# based on the daily rate of return of these two stocks from 1/1/2019 to 4/18/2022?\n",
    "\n",
    "# Determine Equal Variance by testing if (the Larger Stand Deviation / the smaller Standard Deviation) > 2\n",
    "# Assume equal variance unless (the Larger Stand Deviation / the smaller Standard Deviation) > 2\n",
    "\n",
    "EqualVar = True\n",
    "if portfolio1[0].std() > portfolio1[1].std():\n",
    "    if (portfolio1[0].std() / portfolio1[1].std()) > 2:\n",
    "        EqualVar = False\n",
    "else:\n",
    "    if (portfolio1[1].std() / portfolio1[0].std()) > 2:\n",
    "        EqualVar = False"
   ]
  },
  {
   "cell_type": "code",
   "execution_count": 10,
   "id": "368bffcf",
   "metadata": {},
   "outputs": [],
   "source": [
    "# Obtain T-Stat and Pvalue for portfolio1 \n",
    "ttest_p1 = ttest_ind(portfolio1[0], portfolio1[1], equal_var=EqualVar)   \n",
    "# store the p_value from your t-test analysis in the variable named iw_pvalue                       \n",
    "iw_pvalue = ttest_p1.pvalue\n",
    "# store either \"YES\" or \"NO\" in the variable named iw_diff\n",
    "if iw_pvalue < 0.05:\n",
    "    iw_diff = \"YES\"\n",
    "else:\n",
    "    iw_diff = \"NO\""
   ]
  },
  {
   "cell_type": "code",
   "execution_count": 11,
   "id": "381be97d",
   "metadata": {},
   "outputs": [],
   "source": [
    "# 2) Assume IBM is 40 percent, and Walmart is 60 % of the portfolio. \n",
    "# What is the average rate of return for the portfolio containing\n",
    "# IBM and Walmart from 1/1/2019 to 4/18/2022? \n",
    "\n",
    "# calculate the average rate of return for the portfolio 1\n",
    "# store the average rate of return in the variable named iwp_rr\n",
    "\n",
    "iwp_rr =np.average(portfolio1[0])*.4 +np.average(portfolio1[1])*.6"
   ]
  },
  {
   "cell_type": "code",
   "execution_count": 12,
   "id": "10af3b15",
   "metadata": {},
   "outputs": [],
   "source": [
    "# 3) Assume Microsoft is 40 percent, and Amazon is 60 % of the portfolio.\n",
    "# What is the average rate of return for the portfolio containing Microsoft (msft)\n",
    "# and Amazon (amzn) from 1/1/2019 to 4/18/2022?\n",
    "\n",
    "# store the average rate of return in the variable named map_rr\n",
    "\n",
    "map_rr =np.average(portfolio2[0])*.4 +np.average(portfolio2[1])*.6"
   ]
  },
  {
   "cell_type": "code",
   "execution_count": 13,
   "id": "1dd03ae4",
   "metadata": {},
   "outputs": [],
   "source": [
    "# 4) Which portfolio has a higher rate of return?\n",
    "# Assume IBM and Walmart are Portfolio 1, and Microsoft and Amazon are Portfolio 2.\n",
    "\n",
    "# store the integer number 1 or 2 \n",
    "# (whichever has the higher rate of return) in the variable named best_portfolio\n",
    "\n",
    "if iwp_rr >  map_rr :\n",
    "    best_portfolio = \"1\"\n",
    "else:\n",
    "    best_portfolio = \"2\""
   ]
  },
  {
   "cell_type": "code",
   "execution_count": 14,
   "id": "4201d7ea",
   "metadata": {},
   "outputs": [],
   "source": [
    "# 5) Did Walmart (wmt) stock perform better pre-Covid (1/1/2019 to 3/14/2020)\n",
    "# than during the pandemic (3/15/2020 to 5/25/2021) based on the daily rate of return\n",
    "# of the Walmart stock from 1/1/2019 to 4/18/2022?\n",
    "\n",
    "# create pre-covid dataframe based on date range to store the selected daily rate of return of wmt\n",
    "\n",
    "pre_df = df[(df['Date'] >= '1/1/2019') & (df['Date'] <= ' 3/14/2020')][\"wmt_return\"]\n",
    "\n",
    "# create pandemic period dataframe based on date range to store the selected daily rate of return of wmt\n",
    "pan = df[(df['Date'] >= '3/15/2020') & (df['Date'] <= ' 5/25/2021')][\"wmt_return\"]"
   ]
  },
  {
   "cell_type": "code",
   "execution_count": 15,
   "id": "3be3f024",
   "metadata": {},
   "outputs": [],
   "source": [
    "# reset the pan_df index \n",
    "\n",
    "pan.reset_index(drop=True, inplace = True)"
   ]
  },
  {
   "cell_type": "code",
   "execution_count": 16,
   "id": "e8405ced",
   "metadata": {},
   "outputs": [
    {
     "name": "stderr",
     "output_type": "stream",
     "text": [
      "/var/folders/ws/gjryppzd6b13gr32gmby7d300000gn/T/ipykernel_32258/2498753314.py:2: SettingWithCopyWarning: \n",
      "A value is trying to be set on a copy of a slice from a DataFrame\n",
      "\n",
      "See the caveats in the documentation: https://pandas.pydata.org/pandas-docs/stable/user_guide/indexing.html#returning-a-view-versus-a-copy\n",
      "  pan[0] = 0\n"
     ]
    }
   ],
   "source": [
    "# change the pandemic daily rate of return for the first entry to zero (3-15-2020)\n",
    "pan[0] = 0\n",
    "pan_df = pan"
   ]
  },
  {
   "cell_type": "code",
   "execution_count": 24,
   "id": "a430e2c1",
   "metadata": {},
   "outputs": [],
   "source": [
    "# create 2-dimension Numpy arrays to store the pre-Covid and \n",
    "# pandemic period wmt daily ROR\n",
    "\n",
    "pre = np.array(pre_df)\n",
    "post = np.array(pan_df)\n",
    "\n",
    "# this step is optional....you can just use pre_df and pan_df with the ttest_rel()\n",
    "ttest_resualt =  ttest_rel(pre, post, alternative='greater')   "
   ]
  },
  {
   "cell_type": "code",
   "execution_count": 23,
   "id": "25f596dc",
   "metadata": {},
   "outputs": [],
   "source": [
    "# store the p_value from your t-test analysis in the variable named better_w_pvalue  \n",
    "better_w_pvalue  = ttest_resualt.pvalue\n",
    "\n",
    "# store either \"YES\" or \"NO\" in the variable named better_w_covid\n",
    "\n",
    "if better_w_pvalue < 0.05:\n",
    "    better_w_covid = \"YES\"\n",
    "else:\n",
    "    better_w_covid = \"NO\""
   ]
  },
  {
   "cell_type": "code",
   "execution_count": null,
   "id": "0cea6159",
   "metadata": {},
   "outputs": [],
   "source": []
  }
 ],
 "metadata": {
  "kernelspec": {
   "display_name": "Python 3 (ipykernel)",
   "language": "python",
   "name": "python3"
  },
  "language_info": {
   "codemirror_mode": {
    "name": "ipython",
    "version": 3
   },
   "file_extension": ".py",
   "mimetype": "text/x-python",
   "name": "python",
   "nbconvert_exporter": "python",
   "pygments_lexer": "ipython3",
   "version": "3.9.12"
  },
  "vscode": {
   "interpreter": {
    "hash": "31f2aee4e71d21fbe5cf8b01ff0e069b9275f58929596ceb00d14d90e3e16cd6"
   }
  }
 },
 "nbformat": 4,
 "nbformat_minor": 5
}
