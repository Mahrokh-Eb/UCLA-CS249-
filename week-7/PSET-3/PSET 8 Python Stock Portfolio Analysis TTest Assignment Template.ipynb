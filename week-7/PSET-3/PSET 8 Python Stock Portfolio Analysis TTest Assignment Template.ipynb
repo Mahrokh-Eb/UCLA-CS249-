{
 "cells": [
  {
   "cell_type": "code",
   "execution_count": null,
   "id": "b639f9ea",
   "metadata": {},
   "outputs": [],
   "source": [
    "# import libraries \n",
    "import pandas as pd \n",
    "import numpy as np\n",
    "# Perform Independent-Samples T-Test \n",
    "from scipy.stats import ttest_ind\n",
    "# Perform Paired-Samples T-Test \n",
    "from scipy.stats import ttest_rel"
   ]
  },
  {
   "cell_type": "code",
   "execution_count": null,
   "id": "4bce1b06",
   "metadata": {},
   "outputs": [],
   "source": [
    "# read csv file into data frame\n",
    "df = pd.read_csv(\"all_stocks.csv\")"
   ]
  },
  {
   "cell_type": "code",
   "execution_count": null,
   "id": "a3154dee",
   "metadata": {},
   "outputs": [],
   "source": [
    "df"
   ]
  },
  {
   "cell_type": "code",
   "execution_count": null,
   "id": "650cc8ac",
   "metadata": {},
   "outputs": [],
   "source": [
    "# convert Date string to datetime object\n",
    "df['Date'] = pd.to_datetime(df['Date'], format = '%m/%d/%Y')\n"
   ]
  },
  {
   "cell_type": "code",
   "execution_count": null,
   "id": "9508de03",
   "metadata": {},
   "outputs": [],
   "source": [
    "# sort df by Date\n",
    "df.sort_values(by='Date', inplace = True)"
   ]
  },
  {
   "cell_type": "code",
   "execution_count": null,
   "id": "8e524628",
   "metadata": {},
   "outputs": [],
   "source": [
    "# reset index after sorting the df\n",
    "df.reset_index(drop=True, inplace = True)"
   ]
  },
  {
   "cell_type": "code",
   "execution_count": null,
   "id": "b801ce29",
   "metadata": {},
   "outputs": [],
   "source": [
    "df"
   ]
  },
  {
   "cell_type": "code",
   "execution_count": null,
   "id": "f05a46e6",
   "metadata": {},
   "outputs": [],
   "source": [
    "# add ibm_return, wmt_return, msft_return, and amzn_return columns\n",
    "df[\"ibm_return\"] = (df[\"ibm\"] / df[\"ibm\"].shift(1)) - 1\n",
    "df[\"wmt_return\"] = (df[\"wmt\"] / df[\"wmt\"].shift(1)) - 1\n",
    "df[\"msft_return\"] = (df[\"msft\"] / df[\"msft\"].shift(1)) - 1\n",
    "df[\"amzn_return\"] = (df[\"amzn\"] / df[\"amzn\"].shift(1)) - 1"
   ]
  },
  {
   "cell_type": "code",
   "execution_count": null,
   "id": "7fd05e97",
   "metadata": {},
   "outputs": [],
   "source": [
    "# replace the first entry of ibm, wmt, msft, and amzn returns to 0\n",
    "df[\"ibm_return\"][0] = 0\n",
    "df[\"wmt_return\"][0] = 0\n",
    "df[\"msft_return\"][0] = 0\n",
    "df[\"amzn_return\"][0] = 0"
   ]
  },
  {
   "cell_type": "code",
   "execution_count": null,
   "id": "b7bcb458",
   "metadata": {},
   "outputs": [],
   "source": [
    "# create 2-dimension Numpy arrays to store the two portfolios (ibm & wmt, msft & amzn)\n",
    "portfolio1 = np.array([df[\"ibm_return\"], df[\"wmt_return\"]]) \n",
    "portfolio2 = np.array([df[\"msft_return\"], df[\"amzn_return\"]])"
   ]
  },
  {
   "cell_type": "code",
   "execution_count": null,
   "id": "bb480018",
   "metadata": {},
   "outputs": [],
   "source": [
    "portfolio1"
   ]
  },
  {
   "cell_type": "code",
   "execution_count": null,
   "id": "2e07d301",
   "metadata": {},
   "outputs": [],
   "source": [
    "# 1)Are there any differences in the rate of return of IBM (ibm) vs. Walmart (wmt)\n",
    "# based on the daily rate of return of these two stocks from 1/1/2019 to 4/18/2022?\n",
    "\n",
    "# Determine Equal Variance by testing if (the Larger Stand Deviation / the smaller Standard Deviation) > 2\n",
    "# Assume equal variance unless (the Larger Stand Deviation / the smaller Standard Deviation) > 2\n",
    "\n",
    "EqualVar = True\n",
    "if portfolio1[0].std() > portfolio1[1].std():\n",
    "    if (portfolio1[0].std() / portfolio1[1].std()) > 2:\n",
    "        EqualVar = False\n",
    "else:\n",
    "    if (portfolio1[1].std() / portfolio1[0].std()) > 2:\n",
    "        EqualVar = False"
   ]
  },
  {
   "cell_type": "code",
   "execution_count": null,
   "id": "368bffcf",
   "metadata": {},
   "outputs": [],
   "source": [
    "# Obtain T-Stat and Pvalue for portfolio1 \n",
    "ttest_p1 = ttest_ind(portfolio1[0], portfolio1[1], equal_var=EqualVar)   \n",
    "# store the p_value from your t-test analysis in the variable named iw_pvalue                       \n",
    "iw_pvalue = ttest_p1.pvalue\n",
    "# store either \"YES\" or \"NO\" in the variable named iw_diff\n",
    "if iw_pvalue < 0.05:\n",
    "    iw_diff = \"YES\"\n",
    "else:\n",
    "    iw_diff = \"NO\""
   ]
  },
  {
   "cell_type": "code",
   "execution_count": null,
   "id": "381be97d",
   "metadata": {},
   "outputs": [],
   "source": [
    "# 2) Assume IBM is 40 percent, and Walmart is 60 % of the portfolio. \n",
    "# What is the average rate of return for the portfolio containing\n",
    "# IBM and Walmart from 1/1/2019 to 4/18/2022? \n",
    "\n",
    "# calculate the average rate of return for the portfolio 1\n",
    "# store the average rate of return in the variable named iwp_rr\n",
    "\n"
   ]
  },
  {
   "cell_type": "code",
   "execution_count": null,
   "id": "10af3b15",
   "metadata": {},
   "outputs": [],
   "source": [
    "# 3) Assume Microsoft is 40 percent, and Amazon is 60 % of the portfolio.\n",
    "# What is the average rate of return for the portfolio containing Microsoft (msft)\n",
    "# and Amazon (amzn) from 1/1/2019 to 4/18/2022?\n",
    "\n",
    "# store the average rate of return in the variable named map_rr\n",
    "\n"
   ]
  },
  {
   "cell_type": "code",
   "execution_count": null,
   "id": "1dd03ae4",
   "metadata": {},
   "outputs": [],
   "source": [
    "# 4) Which portfolio has a higher rate of return?\n",
    "# Assume IBM and Walmart are Portfolio 1, and Microsoft and Amazon are Portfolio 2.\n",
    "\n",
    "# store the integer number 1 or 2 \n",
    "# (whichever has the higher rate of return) in the variable named best_portfolio\n",
    "\n",
    "\n"
   ]
  },
  {
   "cell_type": "code",
   "execution_count": null,
   "id": "4201d7ea",
   "metadata": {},
   "outputs": [],
   "source": [
    "# 5) Did Walmart (wmt) stock perform better pre-Covid (1/1/2019 to 3/14/2020)\n",
    "# than during the pandemic (3/15/2020 to 5/25/2021) based on the daily rate of return\n",
    "# of the Walmart stock from 1/1/2019 to 4/18/2022?\n",
    "\n",
    "# create pre-covid dataframe based on date range to store the selected daily rate of return of wmt\n",
    "pre_df = \n",
    "\n",
    "# create pandemic period dataframe based on date range to store the selected daily rate of return of wmt\n",
    " pan = "
   ]
  },
  {
   "cell_type": "code",
   "execution_count": null,
   "id": "3be3f024",
   "metadata": {},
   "outputs": [],
   "source": [
    "# reset the pan_df index \n",
    "\n"
   ]
  },
  {
   "cell_type": "code",
   "execution_count": null,
   "id": "e8405ced",
   "metadata": {},
   "outputs": [],
   "source": [
    "# change the pandemic daily rate of return for the first entry to zero (3-15-2020)\n",
    "\n"
   ]
  },
  {
   "cell_type": "code",
   "execution_count": null,
   "id": "a430e2c1",
   "metadata": {},
   "outputs": [],
   "source": [
    "# create 2-dimension Numpy arrays to store the pre-Covid and \n",
    "# pandemic period wmt daily ROR\n",
    "\n",
    "# this step is optional....you can just use pre_df and pan_df with the ttest_rel()"
   ]
  },
  {
   "cell_type": "code",
   "execution_count": null,
   "id": "25f596dc",
   "metadata": {},
   "outputs": [],
   "source": [
    "# store the p_value from your t-test analysis in the variable named better_w_pvalue  \n",
    "\n",
    "\n",
    "# store either \"YES\" or \"NO\" in the variable named better_w_covid\n",
    "\n",
    "\n",
    "\n"
   ]
  }
 ],
 "metadata": {
  "kernelspec": {
   "display_name": "Python 3 (ipykernel)",
   "language": "python",
   "name": "python3"
  },
  "language_info": {
   "codemirror_mode": {
    "name": "ipython",
    "version": 3
   },
   "file_extension": ".py",
   "mimetype": "text/x-python",
   "name": "python",
   "nbconvert_exporter": "python",
   "pygments_lexer": "ipython3",
   "version": "3.9.7"
  }
 },
 "nbformat": 4,
 "nbformat_minor": 5
}
