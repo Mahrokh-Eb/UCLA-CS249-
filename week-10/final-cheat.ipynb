{
 "cells": [
  {
   "cell_type": "markdown",
   "id": "54d5b990",
   "metadata": {},
   "source": [
    "# CHEAT FINAL EXAM"
   ]
  },
  {
   "cell_type": "markdown",
   "id": "cdd3f79c",
   "metadata": {},
   "source": [
    "# Module 4 - Python\n",
    "### for/while, function "
   ]
  },
  {
   "cell_type": "code",
   "execution_count": null,
   "id": "20148088",
   "metadata": {},
   "outputs": [],
   "source": [
    "exponent = int(input(\"Enter a positive exponent number\"))\n",
    "base = int(input(\"Enter an integer base number\"))\n",
    "result = 1\n",
    "\n",
    "######################################### while\n",
    "i=0\n",
    "while i < exponent:\n",
    "    result = result * base\n",
    "    i=i+1\n",
    "print(result)\n",
    "\n",
    "######################################### for \n",
    "for i in range(0, exponent):\n",
    "    result = result * base\n",
    "print(result)\n",
    "\n",
    "\n",
    "######################################### function\n",
    "def exponent(base, exp):\n",
    "    result = 1\n",
    "    for i in range(exp):\n",
    "        result = result * base\n",
    "return result\n",
    "        \n"
   ]
  },
  {
   "cell_type": "markdown",
   "id": "bf787386",
   "metadata": {},
   "source": [
    "# Mudule 5- Pandas"
   ]
  },
  {
   "cell_type": "code",
   "execution_count": null,
   "id": "a95bcafb",
   "metadata": {},
   "outputs": [],
   "source": [
    "import pandas as pd\n",
    "from matplotlib import pyplot as plt\n",
    "\n",
    "grades = [90.5, 100.0, 75.8, 25.6] \n",
    "studytime = [40, 50, 35, 10]\n",
    "\n",
    "# Convert the List of Grades into Excel Spreadsheet Lookalike Column Format \n",
    "data = list(zip(grades, studytime))\n",
    "\n",
    "df = pd.DataFrame(data, columns = [\"Grades\", \"StudyTime\"])\n",
    "print (df)\n",
    "\n",
    "# Use Pandas DataFrame Correlation print (df.corr()) plt.scatter(studytime, grades) plt.show()"
   ]
  },
  {
   "cell_type": "markdown",
   "id": "bb390dfc",
   "metadata": {},
   "source": [
    "### Pandas DataFrame using dictionary "
   ]
  },
  {
   "cell_type": "code",
   "execution_count": null,
   "id": "7be130d3",
   "metadata": {},
   "outputs": [],
   "source": [
    "import pandas as pd\n",
    "MyClass = {'students':['Bruce', 'Jane', 'Nancy', 'Bill'],'grades':[10, 9, 9, 8]}\n",
    "df = pd.DataFrame(MyClass)"
   ]
  },
  {
   "cell_type": "markdown",
   "id": "93ad4a21",
   "metadata": {},
   "source": [
    "### Pandas DataFrame using one:one dictionary "
   ]
  },
  {
   "cell_type": "code",
   "execution_count": null,
   "id": "7531c9c7",
   "metadata": {},
   "outputs": [],
   "source": [
    "MyClass = {'John':10,'Jake':9,'Jackie':8,'Jack':7,'Jane':6,'Jo' :10,'Ja':9,'Jac':8,'Jacky':7,'Jan':6}\n",
    "df = pd.DataFrame(MyClass, index=[1, 2, 3])"
   ]
  },
  {
   "cell_type": "markdown",
   "id": "f25da150",
   "metadata": {},
   "source": [
    "### Replace"
   ]
  },
  {
   "cell_type": "code",
   "execution_count": null,
   "id": "115ec812",
   "metadata": {},
   "outputs": [],
   "source": [
    "Inv2 = {\n",
    "\"Item\": [\"coffee\", \"chocolate\", \"tea\",\"water\"],\"Promotion\": [\"no\",\"no\",\"yes\",\"yes\"],\n",
    "         \"Price\": [5.95, 5.95, 3.95, 2.95],\"Stock\": [100, 250, 1000, 1200]} \n",
    "\n",
    "InvDF = pd.DataFrame(Inv2) InvDF\n",
    "InvDF = InvDF.replace({'Promotion': {'no': False,'yes': True}})"
   ]
  },
  {
   "cell_type": "markdown",
   "id": "72ade303",
   "metadata": {},
   "source": [
    "###  Data Cleaning"
   ]
  },
  {
   "cell_type": "code",
   "execution_count": null,
   "id": "ac544b2e",
   "metadata": {},
   "outputs": [],
   "source": [
    "import pandas as pd import numpy as np\n",
    "df = pd.read_csv('cookies dirty data.csv')\n",
    "\n",
    "# drop rows if all elements are blank \n",
    "df.dropna(how=\"all\", inplace = True)\n",
    "\n",
    "# remove leading/trailing spaces \n",
    "df[\"Salesman\"] = df[\"Salesman\"].str.strip()\n",
    "\n",
    "# replaces invalid values with NaN for one column\n",
    "df['Price'] = df['Price'].replace('[^A-Za-z0-9]',np.NaN,regex=True)\n",
    "\n",
    "# replaces invalid values with NaN for multiple columns\n",
    "df[['Tweets','Sales']] = df[['Tweets','Sales']].replace('[^0-9]',np.NaN,regex=True)\n",
    "\n",
    "# drop rows if one or more elements are blank \n",
    "df = df.dropna()"
   ]
  },
  {
   "cell_type": "markdown",
   "id": "5a7644ad",
   "metadata": {},
   "source": [
    "### DataTime Object"
   ]
  },
  {
   "cell_type": "code",
   "execution_count": null,
   "id": "a0a99c65",
   "metadata": {},
   "outputs": [],
   "source": [
    "df['Date'] = pd.to_datetime(df['Date'], format = '%m/%d/%Y')\n",
    "df = pd.read_csv('cookies dirty data.csv', parse_dates=['Date'])"
   ]
  },
  {
   "cell_type": "markdown",
   "id": "7ff4f53d",
   "metadata": {},
   "source": [
    "### save to csv"
   ]
  },
  {
   "cell_type": "code",
   "execution_count": null,
   "id": "bc983681",
   "metadata": {},
   "outputs": [],
   "source": [
    "df.to_csv(\"cookies_clean1.csv\", index= False)"
   ]
  },
  {
   "cell_type": "markdown",
   "id": "3f57343d",
   "metadata": {},
   "source": [
    "### Python Data Filtering"
   ]
  },
  {
   "cell_type": "code",
   "execution_count": null,
   "id": "9eab8ff8",
   "metadata": {},
   "outputs": [],
   "source": [
    "df_filter = df['Salesman'] == 'Ada' \n",
    "df[df_filter]\n",
    "df_filter = (df['Salesman'] == 'Ada') & (df['Day'] == 'Monday')\n",
    "df[df_filter]\n",
    "df_filter = (df['Day'] == 'Tuesday') | (df['Day'] == 'Monday')\n",
    "df[df_filter]\n",
    "df_filter = (df['Sales'] >= 100) & (df['Tweets'] <= 1)"
   ]
  },
  {
   "cell_type": "markdown",
   "id": "3b1b2d60",
   "metadata": {},
   "source": [
    "# Module 6 - Error Handling "
   ]
  },
  {
   "cell_type": "code",
   "execution_count": null,
   "id": "ad31bb2b",
   "metadata": {},
   "outputs": [],
   "source": [
    "def isValidDigit(s):\n",
    "    try:\n",
    "        # If s is a valid digit, then no error from casting\n",
    "        result = float(s)\n",
    "        print(\"it is a number\")\n",
    "        return True\n",
    "    except ValueError:\n",
    "        print(\"it is not a number\")\n",
    "        return False"
   ]
  },
  {
   "cell_type": "markdown",
   "id": "2e1f447c",
   "metadata": {},
   "source": [
    "### error types \n",
    "#### convert string to numeric"
   ]
  },
  {
   "cell_type": "code",
   "execution_count": null,
   "id": "7c1ef111",
   "metadata": {},
   "outputs": [],
   "source": [
    "df['Sales'] = pd.to_numeric(df['Sales'],errors='coerce')"
   ]
  },
  {
   "cell_type": "code",
   "execution_count": null,
   "id": "6c4c9db1",
   "metadata": {},
   "outputs": [],
   "source": [
    "# raise # ignore # coerce"
   ]
  },
  {
   "cell_type": "markdown",
   "id": "6c14039f",
   "metadata": {},
   "source": [
    "### Pivot Table"
   ]
  },
  {
   "cell_type": "code",
   "execution_count": null,
   "id": "30803d56",
   "metadata": {},
   "outputs": [],
   "source": [
    "df.pivot_table(index=\"y\", columns =\"marital\")\n",
    "df.pivot_table(index=\"y\", columns =\"education\", values = \"age\" )\n",
    "df.pivot_table(index=\"marital\", columns =\"y\", values = \"balance\")\n",
    "df.pivot_table(index=\"marital\", columns =\"y\", values = \"age\",aggfunc=\"sum\")"
   ]
  },
  {
   "cell_type": "markdown",
   "id": "cf293e65",
   "metadata": {},
   "source": [
    "### همه ستون را  حرف کوچیک میذاره"
   ]
  },
  {
   "cell_type": "code",
   "execution_count": null,
   "id": "4f76e1e4",
   "metadata": {},
   "outputs": [],
   "source": [
    "df.rename(columns=str.lower, inplace= True)"
   ]
  },
  {
   "cell_type": "markdown",
   "id": "110cd1a4",
   "metadata": {},
   "source": [
    "# module 7 - T-Test"
   ]
  },
  {
   "cell_type": "markdown",
   "id": "89a9a5d9",
   "metadata": {},
   "source": [
    "### T-Test for INDEPENDENT/unpair samples - ind -  variance"
   ]
  },
  {
   "cell_type": "code",
   "execution_count": null,
   "id": "c5318a53",
   "metadata": {},
   "outputs": [],
   "source": [
    "# std ro darovord, gozasht tu func e ttest-ind\n",
    "\n",
    "# read Excel or CSV File \n",
    "import pandas as pd\n",
    "# Store Columns as Arrays \n",
    "import numpy as np\n",
    "# Perform Independent-Samples T-Test \n",
    "from scipy.stats import ttest_ind\n",
    "\n",
    "# Load sample data file\n",
    "df = pd.read_csv (\"Huang Class Differences 2 samples.csv\")\n",
    "# Convert df to Numpy Array \n",
    "ScoreArray=np.array(df.Score)\n",
    "# Reshape Numpy Array\n",
    "ScoreArr = ScoreArray.reshape(2,20)\n",
    "\n",
    "# Determine Equal Variance by testing if (the Larger Stand Deviation / the smaller Standard Deviation) > 2\n",
    "# Assume no equal vaqriance if (the Larger Stand Deviation / the smaller Standard Deviation) >2\n",
    "if ScoreArr[0].std() > ScoreArr[1].std(): \n",
    "    if (ScoreArr[0].std() / ScoreArr[1]) > 2:\n",
    "        EqualVar = False\n",
    "    else:\n",
    "        EqualVar = True\n",
    "else:\n",
    "    if (ScoreArr[1].std() / ScoreArr[0].std()) > 2:\n",
    "        EqualVar = False\n",
    "    else:\n",
    "        EqualVar = True\n",
    "\n",
    "# Obtain T-Stat and Pvalue\n",
    "SampleT = ttest_ind(ScoreArr[0], ScoreArr[1], equal_var=EqualVar)\n",
    "SampleT.pvalue"
   ]
  },
  {
   "cell_type": "markdown",
   "id": "0f0decb0",
   "metadata": {},
   "source": [
    "### T-Test for PAIR samples - rel "
   ]
  },
  {
   "cell_type": "code",
   "execution_count": null,
   "id": "96a40dd2",
   "metadata": {},
   "outputs": [],
   "source": [
    "########### rel\n",
    "\n",
    "# read Excel or CSV File \n",
    "import pandas as pd\n",
    "# Store Columns as Arrays \n",
    "import numpy as np\n",
    "# Perform Paired-Samples T-Test \n",
    "from scipy.stats import ttest_rel\n",
    "# Load sample data file\n",
    "df = pd.read_csv (\"Huang Class Differences.csv\")  \n",
    "\n",
    "# Convert df columns to individual arrays\n",
    "Student= np.array(df[\"Student\"]) \n",
    "PreTest= np.array(df[\"Pre-Test\"]) \n",
    "PostTest= np.array(df[\"Post-Test\"])\n",
    "\n",
    "print(\"student array = \", Student) \n",
    "print(\"pre-test array = \", PreTest) \n",
    "print(\"post-test array = \", PostTest)\n",
    "\n",
    "# Compare Means - Paired Samples T-Test \n",
    "PairedT = ttest_rel(PreTest,PostTest) \n",
    "print(PairedT)\n",
    "\n",
    "if PairedT.pvalue < 0.05:\n",
    "    print(\"Performamnce of InPerson Students and Online Students are Different\")\n",
    "else:\n",
    "    print(\"Performamnce of InPerson Students and Online Students are the same\")"
   ]
  },
  {
   "cell_type": "code",
   "execution_count": 15,
   "id": "4430da4c",
   "metadata": {},
   "outputs": [
    {
     "ename": "ValueError",
     "evalue": "The truth value of an array with more than one element is ambiguous. Use a.any() or a.all()",
     "output_type": "error",
     "traceback": [
      "\u001b[0;31m---------------------------------------------------------------------------\u001b[0m",
      "\u001b[0;31mValueError\u001b[0m                                Traceback (most recent call last)",
      "Input \u001b[0;32mIn [15]\u001b[0m, in \u001b[0;36m<cell line: 26>\u001b[0;34m()\u001b[0m\n\u001b[1;32m     25\u001b[0m \u001b[38;5;66;03m# standard diviation to see if variance are equall\u001b[39;00m\n\u001b[1;32m     26\u001b[0m \u001b[38;5;28;01mif\u001b[39;00m islands\u001b[38;5;241m.\u001b[39mstd() \u001b[38;5;241m>\u001b[39m foods\u001b[38;5;241m.\u001b[39mstd(): \n\u001b[0;32m---> 27\u001b[0m     \u001b[38;5;28;01mif\u001b[39;00m (islands\u001b[38;5;241m.\u001b[39mstd() \u001b[38;5;241m/\u001b[39m foods) \u001b[38;5;241m>\u001b[39m \u001b[38;5;241m2\u001b[39m:\n\u001b[1;32m     28\u001b[0m         EqualVar \u001b[38;5;241m=\u001b[39m \u001b[38;5;28;01mFalse\u001b[39;00m \n\u001b[1;32m     29\u001b[0m     \u001b[38;5;28;01melse\u001b[39;00m:\n",
      "\u001b[0;31mValueError\u001b[0m: The truth value of an array with more than one element is ambiguous. Use a.any() or a.all()"
     ]
    }
   ],
   "source": [
    "#final-test\n",
    "# to make decisions if Beautiful Islands are happier than Good Foods\n",
    "# it is one-tail\n",
    "# unpair, independent\n",
    "# we have variance\n",
    "\n",
    "import pandas as pd\n",
    "# Perform Independent-Samples T-Test \n",
    "from scipy.stats import ttest_ind\n",
    "import numpy as np\n",
    "\n",
    "\n",
    "island = [10, 6, 8, 1,3, 9, 1, 10, 10, 4, 5, 9]\n",
    "foods = [8, 7, 8, 8, 6, 10, 8, 9, 9, 6, 5, 8]\n",
    "\n",
    "big_list = list(zip(island, foods))\n",
    "\n",
    "# create dataframe with zip file\n",
    "df = pd.DataFrame(big_list, columns = [\"islands\", \"foods\"])\n",
    "\n",
    "# convert to array\n",
    "islands = np.array(df[\"islands\"]) \n",
    "foods = np.array(df[\"foods\"]) \n",
    "\n",
    "# standard diviation to see if variance are equall\n",
    "if islands.std() > foods.std(): \n",
    "    if (islands.std() / foods) > 2:\n",
    "        EqualVar = False \n",
    "    else:\n",
    "        EqualVar = True \n",
    "else:\n",
    "    if (foods.std() / islands.std()) > 2: \n",
    "        EqualVar = False\n",
    "    else:\n",
    "        EqualVar = True\n",
    "# Obtain T-Stat and Pvalue\n",
    "SampleT = ttest_ind(foods, islands, equal_var=EqualVar)\n",
    "SampleT.pvalue\n",
    "\n",
    "'''# compare \n",
    "ttest_resualt =  ttest_ind(islands, foods, alternative='greater')   \n",
    "\n",
    "better_w_pvalue  = ttest_resualt.pvalue\n",
    "\n",
    "if better_w_pvalue < 0.05:\n",
    "    better_w_covid = \"YES\"\n",
    "else:\n",
    "    better_w_covid = \"NO\"'''\n",
    "#people in the Republic of Beautiful Islands are happier than the people in the Republic of Good Foods."
   ]
  },
  {
   "cell_type": "code",
   "execution_count": 26,
   "id": "0d098d39",
   "metadata": {},
   "outputs": [
    {
     "name": "stdout",
     "output_type": "stream",
     "text": [
      "people in the Republic of Beautiful Islands are happier than the people in the Republic of Good Foods.\n"
     ]
    }
   ],
   "source": [
    "import pandas as pd\n",
    "# Perform Independent-Samples T-Test \n",
    "from scipy.stats import ttest_ind\n",
    "import numpy as np\n",
    "\n",
    "\n",
    "island = [10, 6, 8, 1,3, 9, 1, 10, 10, 4, 5, 9]\n",
    "foods = [8, 7, 8, 8, 6, 10, 8, 9, 9, 6, 5, 8]\n",
    "\n",
    "big_list = list(zip(island, foods))\n",
    "\n",
    "# create dataframe with zip file\n",
    "df = pd.DataFrame(big_list, columns = [\"islands\", \"foods\"])\n",
    "\n",
    "# convert to array\n",
    "islands = np.array(df[\"islands\"]) \n",
    "foods = np.array(df[\"foods\"]) \n",
    "\n",
    "# standard diviation to see if variance are equall\n",
    "if islands.std() > foods.std(): \n",
    "    if (islands.std() / foods.std()) > 2:\n",
    "        EqualVar = False \n",
    "    else:\n",
    "        EqualVar = True \n",
    "else:\n",
    "    if (foods.std() / islands.std()) > 2: \n",
    "        EqualVar = False\n",
    "    else:\n",
    "        EqualVar = True\n",
    "\n",
    "# Obtain T-Stat and Pvalue\n",
    "SampleT = ttest_ind(foods, islands, equal_var=EqualVar, alternative= 'greater')\n",
    "SampleT.pvalue\n",
    "\n",
    "if SampleT.pvalue < 0.05:\n",
    "    print('people in the Republic of Beautiful Islands are happier than the people in the Republic of Good Foods.')\n",
    "else:\n",
    "    print('people in the Republic of Beautiful Islands are NOT happier than the people in the Republic of Good Foods.')\n"
   ]
  },
  {
   "cell_type": "markdown",
   "id": "9cb1ac92",
   "metadata": {},
   "source": [
    "### ANOVA - oneWay"
   ]
  },
  {
   "cell_type": "code",
   "execution_count": null,
   "id": "1dd04510",
   "metadata": {},
   "outputs": [],
   "source": [
    "# IN FAGHAT MIGE FARGH DARAN YA NA\n",
    "\n",
    "import pandas as pd \n",
    "import scipy.stats as st\n",
    "\n",
    "# Read data stored in csv file\n",
    "df = pd.read_csv(\"differences3.csv\")\n",
    "\n",
    "# assign label to each student type: Online, InPerson, Hybrid \n",
    "df[\"Student\"].replace({1:\"Online\", 2:\"InPerson\", 3:\"Hybrid\"}, inplace=True)\n",
    "\n",
    "# Oneway ANOVA\n",
    "rdf = st.f_oneway(df[\"Score\"][df[\"Student\"]==\"Online\"], df[\"Score\"][df[\"Student\"]==\"InPerson\"], df[\"Score\"][df[\"Student\"]==\"Hybrid\"])\n",
    "\n",
    "print (\"ANOVA Results: \", rdf)\n",
    "\n",
    "#faghat pvalue ro mide\n",
    "rdf.pvalue\n"
   ]
  },
  {
   "cell_type": "markdown",
   "id": "ecbbdd6a",
   "metadata": {},
   "source": [
    "### ANOVA with Post Hoc"
   ]
  },
  {
   "cell_type": "code",
   "execution_count": null,
   "id": "34d32794",
   "metadata": {},
   "outputs": [],
   "source": [
    "# inja mige ki behtare \n",
    "\n",
    "import pandas as pd\n",
    "# For oneway ANOVA \n",
    "import scipy.stats as st\n",
    "# For Post Hoc\n",
    "from statsmodels.stats.multicomp import pairwise_tukeyhsd\n",
    "from statsmodels.stats.multicomp import MultiComparison as multi\n",
    "\n",
    "# Read data stored in csv file\n",
    "df = pd.read_csv(\"differences3.csv\")\n",
    "\n",
    "# assign label to each student type: Online, InPerson, Hybrid \n",
    "df[\"Student\"].replace({1:\"Online\", 2:\"InPerson\", 3:\"Hybrid\"}, inplace=True)\n",
    "\n",
    "# Oneway ANOVA\n",
    "rdf = st.f_oneway(df[\"Score\"][df[\"Student\"]==\"Online\"], df[\"Score\"][df[\"Student\"]==\"InPerson\"], df[\"Score\"][df[\"Student\"]==\"Hybrid\"])\n",
    "print (\"ANOVA Results: \", rdf)\n",
    "\n",
    "# Post Hoc\n",
    "mc = multi(df[\"Score\"], df[\"Student\"]) \n",
    "posthoc = mc.tukeyhsd()\n",
    "\n",
    "print (posthoc)\n",
    "\n"
   ]
  },
  {
   "cell_type": "markdown",
   "id": "6bccd6fa",
   "metadata": {},
   "source": [
    "### question3 -mock final exam- T-test"
   ]
  },
  {
   "cell_type": "code",
   "execution_count": null,
   "id": "489f6403",
   "metadata": {},
   "outputs": [],
   "source": [
    "import pandas as pd\n",
    "from scipy.stats import ttest_ind\n",
    "import numpy as np\n",
    "island = [10, 6, 8, 1,3, 9, 1, 10, 10, 4, 5, 9]\n",
    "foods = [8, 7, 8, 8, 6, 10, 8, 9, 9, 6, 5, 8]\n",
    "\n",
    "# create dataframe with two list\n",
    "df = pd.DataFrame()\n",
    "df['island'] = island\n",
    "df['foods'] = foods\n",
    "\n",
    "# Convert df to Numpy Array \n",
    "ScoreArray=np.array(df)\n",
    "\n",
    "# Reshape Numpy Array\n",
    "ScoreArr = ScoreArray.reshape(2,12)\n",
    "\n",
    "\n",
    "if ScoreArr[0].std() > ScoreArr[1].std(): \n",
    "    if (ScoreArr[0].std() / ScoreArr[1]) > 2:\n",
    "        EqualVar = False \n",
    "    else:\n",
    "        EqualVar = True \n",
    "else:\n",
    "    if (ScoreArr[1].std() / ScoreArr[0].std()) > 2: \n",
    "        EqualVar = False\n",
    "    else:\n",
    "        EqualVar = True\n",
    "# Obtain T-Stat and Pvalue\n",
    "SampleT = ttest_ind(ScoreArr[0], ScoreArr[1], equal_var=EqualVar)\n",
    "SampleT.pvalue"
   ]
  },
  {
   "cell_type": "markdown",
   "id": "7fa777cf",
   "metadata": {},
   "source": [
    "# Module 8 - ML - Regression"
   ]
  },
  {
   "cell_type": "code",
   "execution_count": null,
   "id": "b740c96c",
   "metadata": {},
   "outputs": [],
   "source": [
    "import pandas as pd\n",
    "\n",
    "# need for regression analysis\n",
    "import statsmodels.api as sm\n",
    "from statsmodels.formula.api import ols\n",
    "\n",
    "temperature = [100,95,90,85,80,75] \n",
    "customer= [60,98,100,200,300,320]\n",
    "\n",
    "df = pd.DataFrame(temperature, columns=[\"Temperature\"]) \n",
    "df[\"Customer\"] = customer\n",
    "\n",
    "# Perform Regression Analysis\n",
    "results = ols (\"Customer ~ Temperature\", data=df).fit() \n",
    "print (results.summary())"
   ]
  },
  {
   "cell_type": "markdown",
   "id": "89d4ddd5",
   "metadata": {},
   "source": [
    "### train-test split"
   ]
  },
  {
   "cell_type": "code",
   "execution_count": null,
   "id": "a8a5c280",
   "metadata": {},
   "outputs": [],
   "source": [
    "# needed for machine learning regression model training and testing \n",
    "from sklearn.model_selection import train_test_split\n",
    "from sklearn.linear_model import LinearRegression\n",
    "\n",
    " \n",
    "# prepare x by droping y = total_deaths\n",
    "x = df.drop([\"iso_code\", \"location\", \"date\", \"total_deaths\"], axis=1)\n",
    "\n",
    " \n",
    "# prepare y = total_deaths \n",
    "y = df.total_deaths\n",
    "\n",
    " \n",
    "#train_and_test_data\n",
    "from sklearn.model_selection import train_test_split\n",
    "x_train,x_test,y_train,y_test = train_test_split(x,y,test_size=0.2,random_state=40)\n",
    " \n",
    "model = LinearRegression() \n",
    "model.fit(x_train, y_train)\n",
    "\n",
    "y_predict = model.predict(x_test)\n",
    "\n",
    "model.score(x_test,y_test)\n",
    "model.coef_\n",
    "model.intercept_"
   ]
  },
  {
   "cell_type": "markdown",
   "id": "05270752",
   "metadata": {},
   "source": [
    "# Module 9 -nltk"
   ]
  },
  {
   "cell_type": "code",
   "execution_count": null,
   "id": "9e4b5d99",
   "metadata": {},
   "outputs": [],
   "source": [
    "from nltk.tokenize import word_tokenize\n",
    "from nltk.corpus import stopwords\n",
    "from nltk.stem import PorterStemmer\n",
    "from nltk import FreqDist\n",
    "\n",
    "#read text file\n",
    "with open('interview.txt') as f:\n",
    "    lines = f.readlines()\n",
    "    \n",
    "# tokenize \n",
    "word_token = word_tokenize(review.lower())\n",
    "\n",
    "# filter stopwords\n",
    "mystopword = set(stopwords.words('english'))\n",
    "filtered_words = []\n",
    "for word in word_token:\n",
    "    if word not in mystopwords and word.isalpha():\n",
    "        filtered_words.append(word)\n",
    "        \n",
    "# stemming\n",
    "ps = PorterStemmer()\n",
    "stem_words = []\n",
    "for word in filtered_words:\n",
    "    stem_words.append(ps.stem(word))\n",
    "    \n",
    "# frequency\n",
    "freq = FreqDist(stemmed_words)\n",
    "for word, frequency in freq.most_common(5):\n",
    "    print(word, frequency)"
   ]
  },
  {
   "cell_type": "code",
   "execution_count": null,
   "id": "77502db5",
   "metadata": {},
   "outputs": [],
   "source": []
  },
  {
   "cell_type": "code",
   "execution_count": null,
   "id": "a4c3fbd1",
   "metadata": {},
   "outputs": [],
   "source": []
  }
 ],
 "metadata": {
  "kernelspec": {
   "display_name": "Python 3 (ipykernel)",
   "language": "python",
   "name": "python3"
  },
  "language_info": {
   "codemirror_mode": {
    "name": "ipython",
    "version": 3
   },
   "file_extension": ".py",
   "mimetype": "text/x-python",
   "name": "python",
   "nbconvert_exporter": "python",
   "pygments_lexer": "ipython3",
   "version": "3.9.12"
  }
 },
 "nbformat": 4,
 "nbformat_minor": 5
}
