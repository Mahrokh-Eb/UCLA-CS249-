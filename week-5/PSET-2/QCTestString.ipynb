{
 "cells": [
  {
   "cell_type": "markdown",
   "id": "68655f2e",
   "metadata": {},
   "source": [
    "#### functions that are usefull for this assignment \n",
    "- len()\n",
    "- split()\n",
    "- pythion string functions\n",
    "- isdigit()"
   ]
  },
  {
   "cell_type": "code",
   "execution_count": 1,
   "id": "351919b1",
   "metadata": {},
   "outputs": [],
   "source": [
    "# first char of string must be Q\n",
    "# string can not be blank ' ', null string'', string can not have a length of zero\n",
    "# if first char is not Q, don’t check the rest\n",
    "# if second char is 0, do not check the rest\n",
    "# if third char is something other than p and d, don’t check any more \n",
    "# first check if my string has a lenght of zero"
   ]
  },
  {
   "cell_type": "code",
   "execution_count": 2,
   "id": "347d0df2",
   "metadata": {},
   "outputs": [
    {
     "ename": "IndentationError",
     "evalue": "unexpected indent (3295481827.py, line 2)",
     "output_type": "error",
     "traceback": [
      "\u001b[0;36m  Input \u001b[0;32mIn [2]\u001b[0;36m\u001b[0m\n\u001b[0;31m    def isValidString(s):\u001b[0m\n\u001b[0m    ^\u001b[0m\n\u001b[0;31mIndentationError\u001b[0m\u001b[0;31m:\u001b[0m unexpected indent\n"
     ]
    }
   ],
   "source": [
    "# test string s to see if it is a valid string\n",
    " def isValidString(s): \n",
    "        return isValid"
   ]
  },
  {
   "cell_type": "code",
   "execution_count": null,
   "id": "9ac9b832",
   "metadata": {},
   "outputs": [],
   "source": [
    "# example for split\n",
    "s = 'Q11b1p10'\n",
    "s_splited = s.split('Q')\n",
    "s_splited"
   ]
  },
  {
   "cell_type": "code",
   "execution_count": null,
   "id": "3cd67afe",
   "metadata": {},
   "outputs": [],
   "source": [
    "s_splited = s_splited[1:]\n",
    "s_splited"
   ]
  },
  {
   "cell_type": "code",
   "execution_count": null,
   "id": "14e81de4",
   "metadata": {},
   "outputs": [],
   "source": [
    "# split 3 batches into independent list elements, if first char=Q, u split\n",
    "# take those number next to d and p and add them up to see if it's equall to first number \n",
    "# to do that there are some build/string/cast value  functions in python(func to figure out if it’s digit)\n",
    "s = '8'\n",
    "print(s.isdigit())"
   ]
  },
  {
   "cell_type": "code",
   "execution_count": null,
   "id": "f66da8b4",
   "metadata": {},
   "outputs": [],
   "source": [
    "#casting\n",
    "s = '89'\n",
    "print(int(s))"
   ]
  },
  {
   "cell_type": "code",
   "execution_count": null,
   "id": "fdea7625",
   "metadata": {},
   "outputs": [],
   "source": [
    "s = 'Q12d6p6Q6d2p4Q9d5p4'\n",
    "s_splited = s.split('Q')\n",
    "s_splited = s_splited[1:]\n",
    "s_splited"
   ]
  },
  {
   "cell_type": "code",
   "execution_count": null,
   "id": "e0722ec4",
   "metadata": {},
   "outputs": [],
   "source": [
    "# check all char, if is not b or p , or $...or number \n",
    "# if i have $ it’s Not valid\n",
    "# if I have a somewhere in the string, it is not valid \n",
    "# valid things: Q, d, p , numbers"
   ]
  },
  {
   "cell_type": "code",
   "execution_count": null,
   "id": "09074f47",
   "metadata": {},
   "outputs": [],
   "source": [
    "membership = ['Q', 'd', 'p', (0,9)]\n",
    "if s is not in membership:\n",
    "    print('invalid')"
   ]
  },
  {
   "cell_type": "code",
   "execution_count": null,
   "id": "4999d026",
   "metadata": {},
   "outputs": [],
   "source": [
    "s = input('Enter the code.')"
   ]
  },
  {
   "cell_type": "code",
   "execution_count": null,
   "id": "f87754d0",
   "metadata": {},
   "outputs": [],
   "source": [
    "# if len(s)==0 or first char!=Q or string==' ' or string=='': ...."
   ]
  },
  {
   "cell_type": "code",
   "execution_count": null,
   "id": "62fdb310",
   "metadata": {},
   "outputs": [],
   "source": [
    "# first check if my string has a lenght of zero\n",
    "def QuickCheck(s):\n",
    "    isValid = True\n",
    "    if len(s)==0:\n",
    "        isValid = False\n",
    "        # if first charector is not Q\n",
    "        if s[0] != 'Q' or s[0]=='' or s[0]==' ':\n",
    "            isValid = False\n",
    "            \n",
    "        return isValid"
   ]
  },
  {
   "cell_type": "code",
   "execution_count": null,
   "id": "af952c8e",
   "metadata": {},
   "outputs": [],
   "source": [
    "print(QuickCheck(s))"
   ]
  },
  {
   "cell_type": "code",
   "execution_count": null,
   "id": "101b49bc",
   "metadata": {},
   "outputs": [],
   "source": [
    " def isValidString(s): \n",
    "        invalid = QuickCheck(s)\n",
    "        return isValid"
   ]
  },
  {
   "cell_type": "code",
   "execution_count": null,
   "id": "b61d3e97",
   "metadata": {},
   "outputs": [],
   "source": [
    "'''# if first charector is not Q, invalid \n",
    "for i,char in enumerate(s):\n",
    "    if i == 0:\n",
    "        char != 'Q'\n",
    "        print('No Q')\n",
    "    '''"
   ]
  },
  {
   "cell_type": "markdown",
   "id": "6213aadc",
   "metadata": {},
   "source": [
    "###############################################################################################"
   ]
  },
  {
   "cell_type": "code",
   "execution_count": null,
   "id": "917be428",
   "metadata": {},
   "outputs": [],
   "source": [
    "# first check to see if s is invalid, check the rest of charectors\n",
    "def QuickCheck(s):\n",
    "    isValid = True\n",
    "    \n",
    "    # first check if my string has a lenght of zero\n",
    "    if len(s)==0:\n",
    "        isValid = False\n",
    "        \n",
    "    # if first char is not Q (s[0] !=s.capitalize()[0])\n",
    "    elif s[0] != 'Q' :\n",
    "        isValid = False\n",
    "            \n",
    "    # if first charector is not blank\n",
    "    elif s[0]==' ':\n",
    "        isValid = False\n",
    "            \n",
    "    return isValid"
   ]
  },
  {
   "cell_type": "code",
   "execution_count": null,
   "id": "46995e6d",
   "metadata": {},
   "outputs": [],
   "source": [
    "# we put Quickcheck function in isValidString function\n",
    "\n",
    "def isValidString(s): \n",
    "    isValid = True\n",
    "    \n",
    "    # first call QuickCheck function\n",
    "    invalid = QuickCheck(s)\n",
    "    \n",
    "    \n",
    "    return isValid"
   ]
  },
  {
   "cell_type": "code",
   "execution_count": null,
   "id": "6dac924a",
   "metadata": {},
   "outputs": [],
   "source": []
  },
  {
   "cell_type": "code",
   "execution_count": null,
   "id": "db33538f",
   "metadata": {},
   "outputs": [],
   "source": [
    "s = 'Q12p5d7Q15d11p4'\n",
    "\n",
    "#split Q from the code\n",
    "s_splited = s.split('Q')\n",
    "# split the rest of the char\n",
    "s_splited = s_splited[1:]\n",
    "\n",
    "# this loop give after Q\n",
    "for i in s_splited:\n",
    "    # check the first char after Q is digit and not 0\n",
    "    if i[0].isdigit() and i[0]!= 0:\n",
    "        # we make a vaiable add those numbers till it is digit\n",
    "        if i[1].isdigit():\n",
    "            sum_Q = i[0] + i[1]\n",
    "            print(sum_Q)\n",
    "            \n",
    "            # amma baraye 1000 nemishe, bayad ye for e dge zade ya while konim begim ta zamani "
   ]
  },
  {
   "cell_type": "code",
   "execution_count": null,
   "id": "0541f4fc",
   "metadata": {},
   "outputs": [],
   "source": [
    "s = 'Q12p5d7Q15d11p4'\n",
    "\n",
    "#split Q from the code\n",
    "s_splited = s.split('Q')\n",
    "# split the rest of the char\n",
    "s_splited = s_splited[1:]\n",
    "\n",
    "for i in s_splited:\n",
    "    # check the first char after Q is digit and not 0\n",
    "    if i[0].isdigit() and i[0]!= 0:\n",
    "        # we make a vaiable add those numbers till it is digit\n",
    "        i = 0\n",
    "        sum_Q = i[0]\n",
    "        while i <= len(s):\n",
    "        sum_Q = i[]\n",
    "        i+=1\n",
    "        "
   ]
  },
  {
   "cell_type": "code",
   "execution_count": 3,
   "id": "303a1cb9",
   "metadata": {},
   "outputs": [
    {
     "name": "stdout",
     "output_type": "stream",
     "text": [
      "yes\n",
      "yes\n",
      "yes\n",
      "yes\n",
      "yes\n",
      "yes\n",
      "yes\n",
      "yes\n",
      "yes\n",
      "yes\n",
      "yes\n",
      "yes\n",
      "yes\n",
      "yes\n",
      "yes\n",
      "yes\n"
     ]
    }
   ],
   "source": [
    "s = 'Q12p5d7Q15d11p4'\n",
    "type(len(s))\n",
    "i = 0\n",
    "while i <= len(s):\n",
    "    print('yes')\n",
    "    i+=1\n",
    "    "
   ]
  },
  {
   "cell_type": "code",
   "execution_count": 6,
   "id": "9967acf1",
   "metadata": {},
   "outputs": [
    {
     "ename": "AttributeError",
     "evalue": "'str' object has no attribute 'isnum'",
     "output_type": "error",
     "traceback": [
      "\u001b[0;31m---------------------------------------------------------------------------\u001b[0m",
      "\u001b[0;31mAttributeError\u001b[0m                            Traceback (most recent call last)",
      "Input \u001b[0;32mIn [6]\u001b[0m, in \u001b[0;36m<cell line: 2>\u001b[0;34m()\u001b[0m\n\u001b[1;32m      1\u001b[0m s \u001b[38;5;241m=\u001b[39m \u001b[38;5;124m'\u001b[39m\u001b[38;5;124mQ12p5d7Q15d11p4\u001b[39m\u001b[38;5;124m'\u001b[39m\n\u001b[0;32m----> 2\u001b[0m \u001b[43ms\u001b[49m\u001b[38;5;241;43m.\u001b[39;49m\u001b[43misnum\u001b[49m()\n",
      "\u001b[0;31mAttributeError\u001b[0m: 'str' object has no attribute 'isnum'"
     ]
    }
   ],
   "source": [
    "s = 'Q12p5d7Q15d11p4'\n",
    "s.isnum()"
   ]
  },
  {
   "cell_type": "code",
   "execution_count": 11,
   "id": "68eae140",
   "metadata": {},
   "outputs": [
    {
     "name": "stdout",
     "output_type": "stream",
     "text": [
      "part is:9d5p4  q = 9  p=4  d=5\n",
      "part is:12p5d7q =12p=7d=7\n",
      "part is:15d11p4  q = 15  p=4  d=11\n",
      "part is:10d5p5  q = 10  p=5  d=5\n"
     ]
    },
    {
     "data": {
      "text/plain": [
       "True"
      ]
     },
     "execution_count": 11,
     "metadata": {},
     "output_type": "execute_result"
    }
   ],
   "source": [
    "############################### zahra\n",
    "s = 'Q9d5p4Q12p5d7Q15d11p4Q10d5p5'\n",
    "\n",
    "# first check to see if s is invalid, check the rest of charectors\n",
    "def QuickCheck(s):\n",
    "    isValid = True\n",
    "    \n",
    "    # first check if my string has a lenght of zero\n",
    "    if len(s)==0:\n",
    "        isValid = False\n",
    "        \n",
    "    # if first char is not Q (s[0] !=s.capitalize()[0])\n",
    "    elif s[0] != 'Q' :\n",
    "        isValid = False\n",
    "            \n",
    "    # if is not alphabet or number \n",
    "    elif  not s.isalnum():\n",
    "        isValid = False\n",
    "    \n",
    "    #if contain P or D in caps or lower case\n",
    "    elif 'P' in s or 'D' in s  or 'q' in s:\n",
    "        isValid = False\n",
    "\n",
    "    return isValid\n",
    "\n",
    "\n",
    "def isValidString(s): \n",
    "    isValid = QuickCheck(s)\n",
    "    if isValid:\n",
    "        #split Q from the code\n",
    "        s_splited = s.split('Q')\n",
    "        # split the rest of the char\n",
    "        s_splited = s_splited[1:]\n",
    "\n",
    "        for part in s_splited:\n",
    "            # if p come sooner of d \n",
    "            Q_sum = part.split('p')\n",
    "            # id d come sooner od p \n",
    "            Q_sumAlt= part.split('d')\n",
    "            if not 'd' in Q_sum[0] :\n",
    "                # Q = Q_sum[0]  and  d Q_sumAlt[1]\n",
    "                q= Q_sum[0]\n",
    "                d= Q_sumAlt[1]\n",
    "                p= Q_sum[1].split('d')[1]\n",
    "                print ('part is:' + part  + 'q =' + q + 'p=' +  p + 'd=' + d)\n",
    "            else: \n",
    "                # Q = Q_sumAlt[0]  and  p Q_sum[1]\n",
    "                q= Q_sumAlt[0]\n",
    "                p= Q_sum[1]\n",
    "                d= Q_sumAlt[1].split('p')[0]\n",
    "                print ('part is:' + part  + '  q = '+ q + '  p=' +  p + '  d=' + d)\n",
    "\n",
    "\n",
    "\n",
    "\n",
    "    return isValid\n",
    "\n",
    "isValidString(s)"
   ]
  },
  {
   "cell_type": "code",
   "execution_count": null,
   "id": "9e301f5b",
   "metadata": {},
   "outputs": [],
   "source": []
  }
 ],
 "metadata": {
  "kernelspec": {
   "display_name": "Python 3 (ipykernel)",
   "language": "python",
   "name": "python3"
  },
  "language_info": {
   "codemirror_mode": {
    "name": "ipython",
    "version": 3
   },
   "file_extension": ".py",
   "mimetype": "text/x-python",
   "name": "python",
   "nbconvert_exporter": "python",
   "pygments_lexer": "ipython3",
   "version": "3.9.12"
  }
 },
 "nbformat": 4,
 "nbformat_minor": 5
}
